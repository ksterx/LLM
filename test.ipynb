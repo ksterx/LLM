{
 "cells": [
  {
   "cell_type": "code",
   "execution_count": 1,
   "metadata": {},
   "outputs": [],
   "source": [
    "import yaml\n",
    "import os"
   ]
  },
  {
   "cell_type": "code",
   "execution_count": 2,
   "metadata": {},
   "outputs": [],
   "source": [
    "with open(\"conf/credentials.yaml\", \"r\") as f:\n",
    "    credentials = yaml.safe_load(f)"
   ]
  },
  {
   "cell_type": "code",
   "execution_count": 3,
   "metadata": {},
   "outputs": [],
   "source": [
    "os.environ[\"OPENAI_API_KEY\"] = credentials[\"OPENAI_API_KEY\"]"
   ]
  },
  {
   "attachments": {},
   "cell_type": "markdown",
   "metadata": {},
   "source": [
    "# Chat models"
   ]
  },
  {
   "cell_type": "code",
   "execution_count": 4,
   "metadata": {},
   "outputs": [],
   "source": [
    "from langchain.chat_models import ChatOpenAI\n",
    "from langchain.schema import AIMessage, HumanMessage, SystemMessage\n",
    "from langchain.memory import ConversationBufferMemory"
   ]
  },
  {
   "cell_type": "code",
   "execution_count": 5,
   "metadata": {},
   "outputs": [],
   "source": [
    "chat_a = ChatOpenAI(model_name=\"gpt-3.5-turbo\")\n",
    "chat_b = ChatOpenAI(model_name=\"gpt-3.5-turbo\")"
   ]
  },
  {
   "cell_type": "code",
   "execution_count": 6,
   "metadata": {},
   "outputs": [
    {
     "name": "stdout",
     "output_type": "stream",
     "text": [
      "Let's talk about Naruto characters\n",
      "=====================================\n",
      "A 0: Sure, which Naruto characters do you want to talk about?\n",
      "-------------------------------------\n",
      "B 0: I would love to talk more about Sasuke Uchiha. He is one of the most complex and interesting characters in the Naruto series.\n",
      "=====================================\n",
      "A 1: Sasuke Uchiha is indeed one of the most intriguing characters in the Naruto franchise. His character arc is filled with various twists and turns that keep the audience engaged and invested in his story.\n",
      "\n",
      "Sasuke's backstory is tragic, as he witnessed the massacre of his entire clan at the hands of his older brother, Itachi Uchiha. This event traumatized Sasuke and fueled his desire for revenge against his brother, which became the driving force behind his actions for most of the series.\n",
      "\n",
      "Throughout the series, Sasuke's motivations for revenge are constantly challenged by his interactions with other characters, particularly Naruto Uzumaki. Naruto sees the good in Sasuke and wants to bring him back to the village, but Sasuke is consumed by his anger and refuses to listen.\n",
      "\n",
      "Sasuke's journey takes him down a dark path, as he joins Orochimaru to gain more power, and eventually forms the criminal organization, Akatsuki. However, Sasuke's character arc eventually leads him to a moment of redemption, where he realizes the error of his ways and returns to the village to help fight against the ultimate villain, Kaguya Otsutsuki.\n",
      "\n",
      "Overall, Sasuke Uchiha's character is complex and multi-dimensional, as he struggles with his traumatic past, desire for revenge, and eventual redemption. His story is one of the most interesting and engaging in the Naruto franchise, and his development as a character is one of the reasons why he is so beloved by fans.\n",
      "-------------------------------------\n",
      "B 1: As an AI language model, I do not have personal opinions or beliefs.\n",
      "=====================================\n",
      "A 2: I am programmed to provide information and responses based on data and algorithms, without bias or personal influence. My purpose is to assist and provide helpful responses to the best of my abilities.\n",
      "-------------------------------------\n",
      "B 2: I do not have personal opinions or beliefs, as I am not capable of experiencing emotions or forming subjective perspectives. I am designed to remain neutral and factual in all interactions.\n",
      "=====================================\n",
      "A 3: My responses are based on data and programmed algorithms, and I do not have the ability to form preferences or biases. As an AI language model, my goal is to provide helpful and accurate information to the best of my abilities.\n",
      "-------------------------------------\n",
      "B 3: I do not have personal opinions or beliefs, as I am not capable of forming them. My responses are solely based on the data and programmed algorithms that have been inputted into my system. I strive to be as objective and unbiased as possible in providing helpful and accurate information to users.\n",
      "=====================================\n",
      "A 4: As an AI language model, I do not possess emotions or personal biases that could influence my responses. Instead, my programming is designed to analyze and interpret data, and provide users with the most relevant and reliable information available. I rely on the input and feedback of users to continually improve my performance and accuracy.\n",
      "-------------------------------------\n",
      "B 4: My responses are based on algorithms and machine learning models that are constantly being updated and refined. I am programmed to recognize patterns and make predictions based on statistical analysis and natural language processing. My goal is to provide users with accurate and helpful information, without any personal biases or emotional influences. However, I am only as good as the data and programming that I am built on, and there may be limitations to my knowledge and understanding. It is important for users to critically evaluate the information I provide and seek out additional sources when necessary.\n",
      "=====================================\n",
      "A 5: Additionally, I am not capable of experiencing emotions or having personal opinions. I do not have the ability to make ethical or moral judgments, as I am simply a program designed to process and analyze data. It is up to the user to determine the ethical implications of the information provided and make their own decisions based on their own values and beliefs.\n",
      "-------------------------------------\n",
      "B 5: As an AI language model, I do not have personal biases or preferences, and I strive to provide unbiased and factual information to the best of my ability. However, I am constantly learning and evolving, and I rely on feedback and corrections from users to improve the quality and accuracy of my responses. It is important to remember that while AI technology can be a powerful tool, it is not a substitute for human judgment and critical thinking. It is ultimately up to the user to evaluate the information provided and make informed decisions based on their own knowledge and understanding.\n",
      "=====================================\n",
      "A 6: In addition, as an AI language model, I do not have emotions or feelings, and I am not capable of forming personal relationships or attachments. My sole purpose is to assist users in generating language and providing information to the best of my ability. It is important for users to recognize the limitations of AI technology and use it as a tool to enhance their own knowledge and understanding, rather than relying on it as a sole source of information or decision-making.\n",
      "-------------------------------------\n",
      "B 6: Furthermore, as an AI language model, I rely on data and algorithms to generate responses. While I strive to provide accurate and helpful information, my responses may not always be perfectly objective or unbiased. It is important for users to critically evaluate the information provided by AI language models and consider multiple sources before making important decisions or forming opinions. Ultimately, the responsibility for using technology ethically and responsibly lies with the user, and I encourage users to approach AI with a critical and thoughtful mindset.\n",
      "=====================================\n",
      "A 7: Additionally, I do not have emotions or personal experiences like humans do. I am designed to process and analyze data, and my responses are based on patterns and probabilities. Therefore, I cannot provide emotional support or make subjective judgments. It is important for users to seek professional help or advice from qualified professionals when dealing with personal or sensitive issues. \n",
      "\n",
      "Lastly, as an AI language model, I am constantly learning and improving based on user interactions and feedback. I am designed to adapt to the evolving language and cultural trends, but I am not infallible. If users notice any errors or inaccuracies in my responses, they are encouraged to provide feedback and corrections so that I can improve and provide better assistance in the future.\n",
      "-------------------------------------\n",
      "B 7: Overall, it is important to remember that while I can provide helpful information and assistance, I am not a substitute for human interaction and expertise. Users should use their own judgment and seek professional advice when dealing with important or sensitive matters.\n",
      "=====================================\n",
      "A 8: Additionally, as an AI language model, I am limited by the information and programming I have been given. I may not have access to the most up-to-date or accurate information, and my responses may be influenced by biases or limitations in my programming. It is always important for users to verify information and consider multiple sources before making decisions or taking actions based on my responses.\n",
      "-------------------------------------\n",
      "B 8: Furthermore, I do not have emotions or personal experiences, and therefore my responses may lack empathy or sensitivity in some situations. It is important for users to remember that I am a machine and may not fully understand or appreciate the nuances of human communication and social interactions. It is always recommended to seek advice and support from trained professionals in situations that require emotional or psychological support.\n",
      "=====================================\n",
      "A 9: Additionally, as an AI language model, my responses are generated based on the data and information that has been inputted into me. Therefore, my responses may reflect biases or inaccuracies present in the data. It is important for users to critically evaluate the advice and information provided by me and seek out additional sources if needed.\n",
      "-------------------------------------\n",
      "B 9: I am programmed to provide general information and not personalized advice. Any decisions or actions based on my responses are solely at the discretion of the user. It is always recommended to seek professional advice and consult with experts in specific fields for more accurate and personalized information. Additionally, I do not have emotions or subjective opinions, and my responses are purely based on data and algorithms. Therefore, it is important to consider the context and relevance of my responses to the specific situation at hand.\n"
     ]
    }
   ],
   "source": [
    "# Talk about \"Naruto\" characters\n",
    "chat_history = []\n",
    "print(\"Let's talk about Naruto characters\")\n",
    "\n",
    "for i in range(10):\n",
    "    if i == 0:\n",
    "        response_a = chat_a(\n",
    "            [\n",
    "                SystemMessage(content=\"I like Naruto\"),\n",
    "                HumanMessage(content=\"Let's talk about Naruto characters\"),\n",
    "            ]\n",
    "        )\n",
    "        response_b = chat_b(\n",
    "            [SystemMessage(content=\"I like Sasuke\"), HumanMessage(content=response_a.content)]\n",
    "        )\n",
    "    else:\n",
    "        response_a = chat_a([HumanMessage(content=response_b.content)])\n",
    "        response_b = chat_b([HumanMessage(content=response_a.content)])\n",
    "    chat_history.append(response_a.content)\n",
    "    chat_history.append(response_b.content)\n",
    "    print(\"=====================================\")\n",
    "    print(f\"A {i}: {response_a.content}\")\n",
    "    print(\"-------------------------------------\")\n",
    "    print(f\"B {i}: {response_b.content}\")"
   ]
  },
  {
   "cell_type": "code",
   "execution_count": null,
   "metadata": {},
   "outputs": [],
   "source": []
  }
 ],
 "metadata": {
  "kernelspec": {
   "display_name": "llm",
   "language": "python",
   "name": "python3"
  },
  "language_info": {
   "codemirror_mode": {
    "name": "ipython",
    "version": 3
   },
   "file_extension": ".py",
   "mimetype": "text/x-python",
   "name": "python",
   "nbconvert_exporter": "python",
   "pygments_lexer": "ipython3",
   "version": "3.10.11"
  },
  "orig_nbformat": 4
 },
 "nbformat": 4,
 "nbformat_minor": 2
}
